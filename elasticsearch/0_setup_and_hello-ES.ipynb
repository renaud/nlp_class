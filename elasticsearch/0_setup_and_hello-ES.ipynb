{
 "cells": [
  {
   "cell_type": "markdown",
   "metadata": {},
   "source": [
    "# Install\n",
    "\n",
    "* either install it locally (see below)\n",
    "* or use the shared instance running on http://104.210.58.178:9200/\n",
    "\n",
    "## Install locally\n",
    "\n",
    "* needs Java JRE\n",
    "* get ES server from https://www.elastic.co/downloads/elasticsearch, for example: \n",
    "\n",
    "      wget https://artifacts.elastic.co/downloads/elasticsearch/elasticsearch-6.2.4.zip\n",
    "      unzip elasticsearch-6.2.4.zip\n",
    "      cd elasticsearch-6.2.4/\n",
    "      ./bin/elasticsearch (this starts the server)\n",
    "      update ES_SERVER in config.py"
   ]
  },
  {
   "cell_type": "code",
   "execution_count": 1,
   "metadata": {},
   "outputs": [],
   "source": [
    "from config import MY_NAME, ES_SERVER"
   ]
  },
  {
   "cell_type": "markdown",
   "metadata": {},
   "source": [
    "## Is Elasticserch running?"
   ]
  },
  {
   "cell_type": "code",
   "execution_count": 14,
   "metadata": {},
   "outputs": [
    {
     "data": {
      "text/plain": [
       "{'cluster_name': 'mhhhhh-application',\n",
       " 'cluster_uuid': 'Rp_NwCFgTtqmPR4-J0UgYQ',\n",
       " 'name': 'uZexZAh',\n",
       " 'tagline': 'You Know, for Search',\n",
       " 'version': {'build_date': '2018-04-12T20:37:28.497551Z',\n",
       "  'build_hash': 'ccec39f',\n",
       "  'build_snapshot': False,\n",
       "  'lucene_version': '7.2.1',\n",
       "  'minimum_index_compatibility_version': '5.0.0',\n",
       "  'minimum_wire_compatibility_version': '5.6.0',\n",
       "  'number': '6.2.4'}}"
      ]
     },
     "execution_count": 14,
     "metadata": {},
     "output_type": "execute_result"
    }
   ],
   "source": [
    "import requests as req\n",
    "\n",
    "req.get('http://{}:9200/?pretty'.format(ES_SERVER)).json()"
   ]
  },
  {
   "attachments": {},
   "cell_type": "markdown",
   "metadata": {},
   "source": [
    "## Indexing a document"
   ]
  },
  {
   "cell_type": "code",
   "execution_count": 15,
   "metadata": {},
   "outputs": [
    {
     "data": {
      "text/plain": [
       "{'_id': '21',\n",
       " '_index': 'master_testindex',\n",
       " '_primary_term': 1,\n",
       " '_seq_no': 2,\n",
       " '_shards': {'failed': 0, 'successful': 1, 'total': 2},\n",
       " '_type': 'cities',\n",
       " '_version': 3,\n",
       " 'result': 'updated'}"
      ]
     },
     "execution_count": 15,
     "metadata": {},
     "output_type": "execute_result"
    }
   ],
   "source": [
    "doc = {\n",
    "    \"rank\": 21,\n",
    "    \"city\": \"Boston\",\n",
    "    \"state\": \"Massachusetts\",\n",
    "    \"population2010\": 617594,\n",
    "    \"land_area\": 48.277,  \n",
    "    \"location\": {\n",
    "        \"lat\": 42.332,\n",
    "        \"lon\": 71.0202 \n",
    "    },\n",
    "    \"abbreviation\": \"MA\",\n",
    "    \"description\": \"Boston is the capital city and most populous municipality \\\n",
    "    of the Commonwealth of Massachusetts in the United States. The city proper\\\n",
    "    covers 48 square miles (124 km2) with an estimated population of 687,584 \\\n",
    "    in 2017, making it also the most populous city in the New England region. \\\n",
    "    Boston is the seat of Suffolk County as well, although the county government\\\n",
    "    was disbanded on July 1, 1999.\"\n",
    "}\n",
    "\n",
    "# format is :  ES-url   /index name  /doctyp/doc_id \n",
    "req.post('http://{}:9200/{}_testindex/cities/21'.format(ES_SERVER, MY_NAME), json=doc).json()"
   ]
  },
  {
   "cell_type": "markdown",
   "metadata": {},
   "source": [
    "## Get the document back"
   ]
  },
  {
   "cell_type": "code",
   "execution_count": 16,
   "metadata": {},
   "outputs": [
    {
     "data": {
      "text/plain": [
       "{'_id': '21',\n",
       " '_index': 'master_testindex',\n",
       " '_source': {'abbreviation': 'MA',\n",
       "  'city': 'Boston',\n",
       "  'description': 'Boston is the capital city and most populous municipality     of the Commonwealth of Massachusetts in the United States. The city proper    covers 48 square miles (124 km2) with an estimated population of 687,584     in 2017, making it also the most populous city in the New England region.     Boston is the seat of Suffolk County as well, although the county government    was disbanded on July 1, 1999.',\n",
       "  'land_area': 48.277,\n",
       "  'location': {'lat': 42.332, 'lon': 71.0202},\n",
       "  'population2010': 617594,\n",
       "  'rank': 21,\n",
       "  'state': 'Massachusetts'},\n",
       " '_type': 'cities',\n",
       " '_version': 3,\n",
       " 'found': True}"
      ]
     },
     "execution_count": 16,
     "metadata": {},
     "output_type": "execute_result"
    }
   ],
   "source": [
    "req.get('http://{}:9200/{}_testindex/cities/21'.format(ES_SERVER, MY_NAME)).json()"
   ]
  },
  {
   "cell_type": "markdown",
   "metadata": {},
   "source": [
    "## Fulltext-search a document"
   ]
  },
  {
   "cell_type": "code",
   "execution_count": 17,
   "metadata": {},
   "outputs": [
    {
     "data": {
      "text/plain": [
       "{'_id': '21',\n",
       " '_index': 'master_testindex',\n",
       " '_source': {'abbreviation': 'MA',\n",
       "  'city': 'Boston',\n",
       "  'description': 'Boston is the capital city and most populous municipality     of the Commonwealth of Massachusetts in the United States. The city proper    covers 48 square miles (124 km2) with an estimated population of 687,584     in 2017, making it also the most populous city in the New England region.     Boston is the seat of Suffolk County as well, although the county government    was disbanded on July 1, 1999.',\n",
       "  'land_area': 48.277,\n",
       "  'location': {'lat': 42.332, 'lon': 71.0202},\n",
       "  'population2010': 617594,\n",
       "  'rank': 21,\n",
       "  'state': 'Massachusetts'},\n",
       " '_type': 'cities',\n",
       " '_version': 3,\n",
       " 'found': True}"
      ]
     },
     "execution_count": 17,
     "metadata": {},
     "output_type": "execute_result"
    }
   ],
   "source": [
    "q = {  \n",
    "    \"query\": { \n",
    "        \"query_string\": { \n",
    "            \"query\": \"boston\" \n",
    "        }\n",
    "    }\n",
    "}\n",
    "req.get('http://{}:9200/{}_testindex/cities/21'.format(ES_SERVER, MY_NAME), json=q).json()"
   ]
  },
  {
   "cell_type": "markdown",
   "metadata": {},
   "source": [
    "## Using Python API\n",
    "\n",
    "Docs: http://elasticsearch-py.readthedocs.io/en/master/api.html"
   ]
  },
  {
   "cell_type": "code",
   "execution_count": 18,
   "metadata": {},
   "outputs": [],
   "source": [
    "from elasticsearch import Elasticsearch,helpers\n",
    "es = Elasticsearch(ES_SERVER)"
   ]
  },
  {
   "cell_type": "code",
   "execution_count": 19,
   "metadata": {},
   "outputs": [
    {
     "data": {
      "text/plain": [
       "{'_shards': {'failed': 0, 'skipped': 0, 'successful': 5, 'total': 5},\n",
       " 'hits': {'hits': [{'_id': '21',\n",
       "    '_index': 'master_testindex',\n",
       "    '_score': 0.39896312,\n",
       "    '_source': {'abbreviation': 'MA',\n",
       "     'city': 'Boston',\n",
       "     'description': 'Boston is the capital city and most populous municipality     of the Commonwealth of Massachusetts in the United States. The city proper    covers 48 square miles (124 km2) with an estimated population of 687,584     in 2017, making it also the most populous city in the New England region.     Boston is the seat of Suffolk County as well, although the county government    was disbanded on July 1, 1999.',\n",
       "     'land_area': 48.277,\n",
       "     'location': {'lat': 42.332, 'lon': 71.0202},\n",
       "     'population2010': 617594,\n",
       "     'rank': 21,\n",
       "     'state': 'Massachusetts'},\n",
       "    '_type': 'cities'}],\n",
       "  'max_score': 0.39896312,\n",
       "  'total': 1},\n",
       " 'timed_out': False,\n",
       " 'took': 34}"
      ]
     },
     "execution_count": 19,
     "metadata": {},
     "output_type": "execute_result"
    }
   ],
   "source": [
    "es.search(index='{}_testindex'.format(MY_NAME), body=q)"
   ]
  },
  {
   "cell_type": "code",
   "execution_count": null,
   "metadata": {},
   "outputs": [],
   "source": []
  }
 ],
 "metadata": {
  "kernelspec": {
   "display_name": "Python 3",
   "language": "python",
   "name": "python3"
  },
  "language_info": {
   "codemirror_mode": {
    "name": "ipython",
    "version": 3
   },
   "file_extension": ".py",
   "mimetype": "text/x-python",
   "name": "python",
   "nbconvert_exporter": "python",
   "pygments_lexer": "ipython3",
   "version": "3.6.4"
  }
 },
 "nbformat": 4,
 "nbformat_minor": 2
}
