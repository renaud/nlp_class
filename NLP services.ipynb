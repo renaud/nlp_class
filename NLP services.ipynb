{
 "cells": [
  {
   "cell_type": "markdown",
   "metadata": {},
   "source": [
    "## Microsoft Azure \n",
    "\n",
    "Cognitive services: https://azure.microsoft.com/en-us/services/cognitive-services/\n",
    "\n",
    "Language: https://azure.microsoft.com/en-us/services/cognitive-services/directory/lang/\n",
    "\n",
    "Demo: https://azure.microsoft.com/en-us/services/cognitive-services/text-analytics/?v=18.05"
   ]
  },
  {
   "cell_type": "markdown",
   "metadata": {},
   "source": [
    "## IBM Watson\n",
    "\n",
    "Demo:\n",
    "https://www.ibm.com/watson/services/natural-language-understanding/"
   ]
  },
  {
   "cell_type": "markdown",
   "metadata": {},
   "source": [
    "## Google\n",
    "\n",
    "Demo: https://cloud.google.com/natural-language/"
   ]
  },
  {
   "cell_type": "markdown",
   "metadata": {},
   "source": [
    "## Stanford Parser\n",
    "\n",
    "Demo: http://nlp.stanford.edu:8080/parser/"
   ]
  },
  {
   "cell_type": "markdown",
   "metadata": {},
   "source": [
    "## Paralleldots\n",
    "\n",
    "German API: https://www.paralleldots.com/text-analysis-apis#multilingual-sentiment-analysis"
   ]
  },
  {
   "cell_type": "markdown",
   "metadata": {},
   "source": [
    "## Cortical.io\n",
    "\n",
    "Similarity measures: http://api.cortical.io/ (Compare)"
   ]
  },
  {
   "cell_type": "markdown",
   "metadata": {},
   "source": [
    "## Amazon comprehend \n",
    "\n",
    "https://aws.amazon.com/comprehend/features/"
   ]
  },
  {
   "cell_type": "markdown",
   "metadata": {},
   "source": [
    "And many more... (https://www.quora.com/What-are-the-open-and-commercial-available-APIs-for-NLP-Natural-Language-Processing)"
   ]
  },
  {
   "cell_type": "code",
   "execution_count": null,
   "metadata": {},
   "outputs": [],
   "source": []
  }
 ],
 "metadata": {
  "kernelspec": {
   "display_name": "Python 3",
   "language": "python",
   "name": "python3"
  },
  "language_info": {
   "codemirror_mode": {
    "name": "ipython",
    "version": 3
   },
   "file_extension": ".py",
   "mimetype": "text/x-python",
   "name": "python",
   "nbconvert_exporter": "python",
   "pygments_lexer": "ipython3",
   "version": "3.6.4"
  }
 },
 "nbformat": 4,
 "nbformat_minor": 2
}
